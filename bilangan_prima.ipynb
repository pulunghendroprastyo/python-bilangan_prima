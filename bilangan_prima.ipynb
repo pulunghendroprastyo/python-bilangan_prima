{
 "cells": [
  {
   "cell_type": "code",
   "execution_count": 10,
   "metadata": {},
   "outputs": [
    {
     "name": "stdout",
     "output_type": "stream",
     "text": [
      "Masukkan angka: 117\n",
      " 117 bukan bilangan prima\n"
     ]
    }
   ],
   "source": [
    "# meminta input dari user\n",
    "\n",
    "angka = int(input(\"Masukkan angka: \"))\n",
    "\n",
    "# mengecek bilangan prima selalu lebih besar dari 1\n",
    "\n",
    "if int(angka) > 1:\n",
    "\n",
    "   # mengecek faktor pembagi dengan operasi modulus\n",
    "\n",
    "   for i in range(2,angka):\n",
    "       if (int(angka) % i) == 0:\n",
    "           print (\" %d bukan bilangan prima\" % angka)\n",
    "           break\n",
    "   else:\n",
    "       print (\" %d adalah bilangan prima\" % angka)\n",
    "\n",
    "# keluaran jika sebuah bilangan kurang dari atau sama dengan 1\n",
    "\n",
    "else:\n",
    "    print (\" %d bukan bilangan prima\" % angka)"
   ]
  },
  {
   "cell_type": "code",
   "execution_count": null,
   "metadata": {},
   "outputs": [],
   "source": []
  },
  {
   "cell_type": "code",
   "execution_count": null,
   "metadata": {},
   "outputs": [],
   "source": []
  },
  {
   "cell_type": "code",
   "execution_count": null,
   "metadata": {},
   "outputs": [],
   "source": []
  }
 ],
 "metadata": {
  "kernelspec": {
   "display_name": "Python 3",
   "language": "python",
   "name": "python3"
  },
  "language_info": {
   "codemirror_mode": {
    "name": "ipython",
    "version": 3
   },
   "file_extension": ".py",
   "mimetype": "text/x-python",
   "name": "python",
   "nbconvert_exporter": "python",
   "pygments_lexer": "ipython3",
   "version": "3.7.3"
  }
 },
 "nbformat": 4,
 "nbformat_minor": 2
}
